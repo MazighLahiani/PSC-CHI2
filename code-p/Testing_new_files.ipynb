{
 "cells": [
  {
   "cell_type": "code",
   "execution_count": 12,
   "metadata": {},
   "outputs": [],
   "source": [
    "import joblib\n",
    "from rdkit.Chem.Draw import IPythonConsole #Needed to show molecules+\n",
    "from rdkit.Chem import Draw\n",
    "from rdkit.Chem import AllChem as Chem\n",
    "import gzip\n",
    "import os\n",
    "import sys\n",
    "import csv\n",
    "import pandas as pd\n",
    "\n",
    "from syba.syba import SybaClassifier, SmiMolSupplier\n",
    "import statsmodels.api as sm\n",
    "from datetime import datetime\n",
    "import tensorflow as tf\n",
    "\n",
    "from tensorflow import keras\n",
    "import numpy as np\n",
    "\n",
    "from tensorflow.keras import optimizers\n",
    "\n",
    "from tensorflow.keras import layers\n",
    "from tensorflow.keras import models"
   ]
  },
  {
   "cell_type": "code",
   "execution_count": 2,
   "metadata": {},
   "outputs": [],
   "source": [
    "def create_my_model():\n",
    "    model = keras.Sequential()\n",
    "    model.add(layers.Embedding(input_dim=1024, output_dim=10))\n",
    "    model.add(layers.LSTM(128))\n",
    "    model.add(layers.Dense(128))\n",
    "    model.add(layers.Dense(64))\n",
    "    model.add(layers.Dense(32))\n",
    "    model.add(layers.Dense(1, activation='sigmoid'))\n",
    "    model.compile(optimizer=optimizers.RMSprop(lr=0.001), loss='binary_crossentropy', metrics=['mae', 'accuracy'])\n",
    "    return model"
   ]
  },
  {
   "cell_type": "code",
   "execution_count": 3,
   "metadata": {},
   "outputs": [],
   "source": [
    "def create_my_model10():\n",
    "    model = keras.Sequential()\n",
    "    model.add(layers.Embedding(input_dim=1024, output_dim=100))\n",
    "    model.add(layers.LSTM(264))\n",
    "    model.add(layers.Dense(264))\n",
    "    model.add(layers.Dense(128))\n",
    "    model.add(layers.Dense(64))\n",
    "    model.add(layers.Dense(32))\n",
    "    model.add(layers.Dense(1, activation='sigmoid'))\n",
    "    model.compile(optimizer=optimizers.RMSprop(lr=0.001), loss='binary_crossentropy', metrics=['mae', 'accuracy'])\n",
    "    return model"
   ]
  },
  {
   "cell_type": "code",
   "execution_count": 4,
   "metadata": {},
   "outputs": [
    {
     "name": "stdout",
     "output_type": "stream",
     "text": [
      "Model: \"sequential\"\n",
      "_________________________________________________________________\n",
      "Layer (type)                 Output Shape              Param #   \n",
      "=================================================================\n",
      "embedding (Embedding)        (None, None, 100)         102400    \n",
      "_________________________________________________________________\n",
      "lstm (LSTM)                  (None, 264)               385440    \n",
      "_________________________________________________________________\n",
      "dense (Dense)                (None, 264)               69960     \n",
      "_________________________________________________________________\n",
      "dense_1 (Dense)              (None, 128)               33920     \n",
      "_________________________________________________________________\n",
      "dense_2 (Dense)              (None, 64)                8256      \n",
      "_________________________________________________________________\n",
      "dense_3 (Dense)              (None, 32)                2080      \n",
      "_________________________________________________________________\n",
      "dense_4 (Dense)              (None, 1)                 33        \n",
      "=================================================================\n",
      "Total params: 602,089\n",
      "Trainable params: 602,089\n",
      "Non-trainable params: 0\n",
      "_________________________________________________________________\n"
     ]
    }
   ],
   "source": [
    "rnn_load = create_my_model10()\n",
    "rnn_load.load_weights('./rnn_lstm_V10.1000.10_weights.h5')\n",
    "rnn_load.summary()"
   ]
  },
  {
   "cell_type": "markdown",
   "metadata": {},
   "source": [
    "# Comparer a l'Accuracy de SYBA sur un autre fichier de test"
   ]
  },
  {
   "cell_type": "code",
   "execution_count": 5,
   "metadata": {},
   "outputs": [],
   "source": [
    "#D'abord charger syba et les données de test\n",
    "syba = SybaClassifier()Mazigh0\n",
    "\n",
    "syba.fitDefaultScore()\n"
   ]
  },
  {
   "cell_type": "code",
   "execution_count": 18,
   "metadata": {},
   "outputs": [
    {
     "name": "stdout",
     "output_type": "stream",
     "text": [
      "Processing the files  Alcools_difficiles.csv\n",
      "Processing the files  Alcools_faciles.csv\n",
      "Processing the files  Amides_difficiles_PubChem.csv\n",
      "Processing the files  Esters_difficiles_PubChem.csv\n",
      "Processing the files  Esters_faciles_PubChem.csv\n",
      "Processing the files  Imines_difficiles_PubChem.csv\n",
      "Processing the files  Imines_faciles_PubChem.csv\n"
     ]
    }
   ],
   "source": [
    "nBits = 1024\n",
    "inpath = \"../data/transfer/Banques/\"\n",
    "outpath = \"../out/RNN/V10/\"\n",
    "files = [\"Alcools_difficiles.csv\", \"Alcools_faciles.csv\", \"Amides_difficiles_PubChem.csv\", \"Esters_difficiles_PubChem.csv\", \"Esters_faciles_PubChem.csv\", \"Imines_difficiles_PubChem.csv\", \"Imines_faciles_PubChem.csv\"]\n",
    "for f in files:\n",
    "    with open(inpath+f) as inp, open(outpath+f, \"w\") as out:\n",
    "        header = inp.readline().strip()\n",
    "        print(\"Processing the files \", f)\n",
    "        out.write(header)\n",
    "        out.write(\"smiles,SybaScore,LstmScore\\n\")\n",
    "        data = np.array([np.array(Chem.GetMorganFingerprintAsBitVect(spls[0],2,nBits=nBits)) for spls in SmiMolSupplier(open(inpath+f, mode=\"rt\"), header=True, smi_col=0)])    \n",
    "        pr = rnn_load.predict(data)\n",
    "        i = 0\n",
    "        for line in inp:\n",
    "            smi = line.strip().split(\",\")\n",
    "            out.write(\"{},{},{}\\n\".format(smi, syba.predict(line), pr[i]))\n",
    "            i += 1"
   ]
  },
  {
   "cell_type": "code",
   "execution_count": null,
   "metadata": {},
   "outputs": [],
   "source": []
  }
 ],
 "metadata": {
  "kernelspec": {
   "display_name": "rdkit-env",
   "language": "python",
   "name": "rdkit-env"
  },
  "language_info": {
   "codemirror_mode": {
    "name": "ipython",
    "version": 3
   },
   "file_extension": ".py",
   "mimetype": "text/x-python",
   "name": "python",
   "nbconvert_exporter": "python",
   "pygments_lexer": "ipython3",
   "version": "3.6.12"
  }
 },
 "nbformat": 4,
 "nbformat_minor": 4
}
