{
 "cells": [
  {
   "cell_type": "code",
   "execution_count": 1,
   "metadata": {},
   "outputs": [],
   "source": [
    "import joblib\n",
    "from rdkit.Chem.Draw import IPythonConsole #Needed to show molecules+\n",
    "from rdkit.Chem import Draw\n",
    "from rdkit.Chem import AllChem as Chem\n",
    "import gzip\n",
    "import os\n",
    "import sys\n",
    "import csv\n",
    "import pandas as pd\n",
    "\n",
    "from syba.syba import SybaClassifier, SmiMolSupplier\n",
    "import statsmodels.api as sm\n",
    "from datetime import datetime\n",
    "import tensorflow as tf\n",
    "\n",
    "from tensorflow import keras\n",
    "import numpy as np\n",
    "\n",
    "from tensorflow.keras import optimizers\n",
    "\n",
    "from tensorflow.keras import layers\n",
    "from tensorflow.keras import models"
   ]
  },
  {
   "cell_type": "code",
   "execution_count": 2,
   "metadata": {},
   "outputs": [],
   "source": [
    "def create_my_model():\n",
    "    model = keras.Sequential()\n",
    "    model.add(layers.Embedding(input_dim=1024, output_dim=10))\n",
    "    model.add(layers.LSTM(128))\n",
    "    model.add(layers.Dense(128))\n",
    "    model.add(layers.Dense(64))\n",
    "    model.add(layers.Dense(32))\n",
    "    model.add(layers.Dense(1, activation='sigmoid'))\n",
    "    model.compile(optimizer=optimizers.RMSprop(lr=0.001), loss='binary_crossentropy', metrics=['mae', 'accuracy'])\n",
    "    return model"
   ]
  },
  {
   "cell_type": "code",
   "execution_count": 3,
   "metadata": {},
   "outputs": [],
   "source": [
    "def create_my_model11():\n",
    "    model = keras.Sequential()\n",
    "    model.add(layers.Embedding(input_dim=1024, output_dim=264))\n",
    "    model.add(layers.LSTM(264))\n",
    "    model.add(layers.Dense(264))\n",
    "    model.add(layers.Dense(128))\n",
    "    model.add(layers.Dense(64))\n",
    "    model.add(layers.Dense(32))\n",
    "    model.add(layers.Dense(1, activation='sigmoid'))\n",
    "    model.compile(optimizer=optimizers.RMSprop(lr=0.001), loss='binary_crossentropy', metrics=['mae', 'accuracy'])\n",
    "    return model"
   ]
  },
  {
   "cell_type": "code",
   "execution_count": 4,
   "metadata": {},
   "outputs": [
    {
     "name": "stdout",
     "output_type": "stream",
     "text": [
      "Model: \"sequential\"\n",
      "_________________________________________________________________\n",
      "Layer (type)                 Output Shape              Param #   \n",
      "=================================================================\n",
      "embedding (Embedding)        (None, None, 264)         270336    \n",
      "_________________________________________________________________\n",
      "lstm (LSTM)                  (None, 264)               558624    \n",
      "_________________________________________________________________\n",
      "dense (Dense)                (None, 264)               69960     \n",
      "_________________________________________________________________\n",
      "dense_1 (Dense)              (None, 128)               33920     \n",
      "_________________________________________________________________\n",
      "dense_2 (Dense)              (None, 64)                8256      \n",
      "_________________________________________________________________\n",
      "dense_3 (Dense)              (None, 32)                2080      \n",
      "_________________________________________________________________\n",
      "dense_4 (Dense)              (None, 1)                 33        \n",
      "=================================================================\n",
      "Total params: 943,209\n",
      "Trainable params: 943,209\n",
      "Non-trainable params: 0\n",
      "_________________________________________________________________\n"
     ]
    }
   ],
   "source": [
    "rnn_load = create_my_model11()\n",
    "rnn_load.load_weights('./rnn_lstm_V11.1000.10_weights.h5')\n",
    "rnn_load.summary()"
   ]
  },
  {
   "cell_type": "markdown",
   "metadata": {},
   "source": [
    "# Specialization for Alcools : \n",
    "First get the data"
   ]
  },
  {
   "cell_type": "code",
   "execution_count": 5,
   "metadata": {},
   "outputs": [
    {
     "data": {
      "text/html": [
       "<div>\n",
       "<style scoped>\n",
       "    .dataframe tbody tr th:only-of-type {\n",
       "        vertical-align: middle;\n",
       "    }\n",
       "\n",
       "    .dataframe tbody tr th {\n",
       "        vertical-align: top;\n",
       "    }\n",
       "\n",
       "    .dataframe thead th {\n",
       "        text-align: right;\n",
       "    }\n",
       "</style>\n",
       "<table border=\"1\" class=\"dataframe\">\n",
       "  <thead>\n",
       "    <tr style=\"text-align: right;\">\n",
       "      <th></th>\n",
       "      <th>isosmiles</th>\n",
       "    </tr>\n",
       "  </thead>\n",
       "  <tbody>\n",
       "    <tr>\n",
       "      <th>0</th>\n",
       "      <td>C[C@@]1([C@H]2[C@@H]([C@H]3[C@@H](C(=O)C(=C([C...</td>\n",
       "    </tr>\n",
       "    <tr>\n",
       "      <th>1</th>\n",
       "      <td>CC1(C2C(C3C(C(=O)C(=C(C3(C(=O)C2=C(C4=C1C=CC=C...</td>\n",
       "    </tr>\n",
       "    <tr>\n",
       "      <th>2</th>\n",
       "      <td>C[C@@]1([C@H]2C([C@H]3C(C(=O)C(=C([C@]3(C(=O)C...</td>\n",
       "    </tr>\n",
       "    <tr>\n",
       "      <th>3</th>\n",
       "      <td>C[C@]1([C@@H]2[C@H]([C@@H]3[C@H](C(=O)C(=C([C@...</td>\n",
       "    </tr>\n",
       "    <tr>\n",
       "      <th>4</th>\n",
       "      <td>C[C@@]1([C@@H]2[C@@H]([C@@H]3[C@@H](C(=O)C(=C(...</td>\n",
       "    </tr>\n",
       "    <tr>\n",
       "      <th>...</th>\n",
       "      <td>...</td>\n",
       "    </tr>\n",
       "    <tr>\n",
       "      <th>110</th>\n",
       "      <td>C[C@]1([C@H]2[C@H]([C@H]3[C@H](C(=O)C(=C([C@]3...</td>\n",
       "    </tr>\n",
       "    <tr>\n",
       "      <th>111</th>\n",
       "      <td>C[C@@]1([C@H]2[C@@H]([C@H]3[C@@H](C(=O)C(=C(C3...</td>\n",
       "    </tr>\n",
       "    <tr>\n",
       "      <th>112</th>\n",
       "      <td>C[C@@]1([C@@H]2[C@@H]([C@H]3[C@H](C(=O)C(=C([C...</td>\n",
       "    </tr>\n",
       "    <tr>\n",
       "      <th>113</th>\n",
       "      <td>C[C@@]1([C@H]2C([C@@H]3C(C(=O)C(=C([C@]3(C(=O)...</td>\n",
       "    </tr>\n",
       "    <tr>\n",
       "      <th>114</th>\n",
       "      <td>CC(=O)O[C@@H]1[C@H]2[C@@H](C(=O)C(=C([C@]2(C(=...</td>\n",
       "    </tr>\n",
       "  </tbody>\n",
       "</table>\n",
       "<p>115 rows × 1 columns</p>\n",
       "</div>"
      ],
      "text/plain": [
       "                                             isosmiles\n",
       "0    C[C@@]1([C@H]2[C@@H]([C@H]3[C@@H](C(=O)C(=C([C...\n",
       "1    CC1(C2C(C3C(C(=O)C(=C(C3(C(=O)C2=C(C4=C1C=CC=C...\n",
       "2    C[C@@]1([C@H]2C([C@H]3C(C(=O)C(=C([C@]3(C(=O)C...\n",
       "3    C[C@]1([C@@H]2[C@H]([C@@H]3[C@H](C(=O)C(=C([C@...\n",
       "4    C[C@@]1([C@@H]2[C@@H]([C@@H]3[C@@H](C(=O)C(=C(...\n",
       "..                                                 ...\n",
       "110  C[C@]1([C@H]2[C@H]([C@H]3[C@H](C(=O)C(=C([C@]3...\n",
       "111  C[C@@]1([C@H]2[C@@H]([C@H]3[C@@H](C(=O)C(=C(C3...\n",
       "112  C[C@@]1([C@@H]2[C@@H]([C@H]3[C@H](C(=O)C(=C([C...\n",
       "113  C[C@@]1([C@H]2C([C@@H]3C(C(=O)C(=C([C@]3(C(=O)...\n",
       "114  CC(=O)O[C@@H]1[C@H]2[C@@H](C(=O)C(=C([C@]2(C(=...\n",
       "\n",
       "[115 rows x 1 columns]"
      ]
     },
     "execution_count": 5,
     "metadata": {},
     "output_type": "execute_result"
    }
   ],
   "source": [
    "df = pd.read_csv(\"../data/transfer/Banques/train_alcool_faciles.csv\")\n",
    "df"
   ]
  },
  {
   "cell_type": "code",
   "execution_count": 6,
   "metadata": {},
   "outputs": [],
   "source": [
    "nBits = 1024\n",
    "syn_fps = np.array([np.array(Chem.GetMorganFingerprintAsBitVect(spls[0],2,nBits=nBits)) for spls in SmiMolSupplier(open(\"../data/transfer/Banques/Alcools_faciles.csv\", mode=\"rt\"), header=True, smi_col=0)])\n",
    "n = len(syn_fps)\n",
    "\n",
    "\n",
    "non_fps = [np.array(Chem.GetMorganFingerprintAsBitVect(spls[0],2,nBits=nBits)) for spls in SmiMolSupplier(open(\"../data/transfer/Banques/Alcools_difficiles.csv\", mode=\"rt\"), header=True, smi_col=0)]\n",
    "m = len(non_fps)"
   ]
  },
  {
   "cell_type": "code",
   "execution_count": 7,
   "metadata": {},
   "outputs": [
    {
     "name": "stdout",
     "output_type": "stream",
     "text": [
      "184 184 46 46\n"
     ]
    }
   ],
   "source": [
    "nBits = 1024\n",
    "syn_fps = np.array([np.array(Chem.GetMorganFingerprintAsBitVect(spls[0],2,nBits=nBits)) for spls in SmiMolSupplier(open(\"../data/transfer/Banques/train_alcool_faciles.csv\", mode=\"rt\"), header=True, smi_col=0)])\n",
    "\n",
    "n = len(syn_fps)\n",
    "\n",
    "\n",
    "non_fps = [np.array(Chem.GetMorganFingerprintAsBitVect(spls[0],2,nBits=nBits)) for spls in SmiMolSupplier(open(\"../data/transfer/Banques/train_alcool_difficiles.csv\", mode=\"rt\"), header=True, smi_col=0)]\n",
    "\n",
    "m = len(non_fps)\n",
    "\n",
    "if(n > m): \n",
    "    syn_fps = syn_fps[:m]\n",
    "    n = m\n",
    "else :\n",
    "    non_fps = non_fps[:n]\n",
    "\n",
    "\n",
    "syn_classes = np.ones(n)\n",
    "\n",
    "x_train_1 = syn_fps[:int(n*0.8)]\n",
    "y_train_1 = syn_classes[:int(n*0.8)]\n",
    "x_test_1 = syn_fps[int(n*0.8):]   #int(n*0.24)]\n",
    "y_test_1 = syn_classes[int(n*0.8):]  #int(n*0.24)]\n",
    "\n",
    "non_classes = np.zeros(n)\n",
    "\n",
    "x_train_0 = non_fps[:int(n*0.8)]\n",
    "y_train_0 = non_classes[:int(n*0.8)]\n",
    "x_test_0 = non_fps[int(n*0.8):]   #int(0.24*n)]\n",
    "y_test_0 = non_classes[int(n*0.8):]  #int(0.24*n)]\n",
    "\n",
    "\n",
    "x_train = np.concatenate((x_train_1, x_train_0))\n",
    "y_train = np.concatenate((y_train_1, y_train_0))\n",
    "x_test = np.concatenate((x_test_1, x_test_0))\n",
    "y_test = np.concatenate((y_test_1, y_test_0))\n",
    "\n",
    "print(len(x_train), len(y_train), len(x_test), len(y_test))"
   ]
  },
  {
   "cell_type": "markdown",
   "metadata": {},
   "source": [
    "# Entrainer un nouveau model :"
   ]
  },
  {
   "cell_type": "code",
   "execution_count": 8,
   "metadata": {},
   "outputs": [
    {
     "name": "stdout",
     "output_type": "stream",
     "text": [
      "Epoch 1/4\n",
      "19/19 [==============================] - 51s 3s/step - loss: 0.7048 - mae: 0.4973 - accuracy: 0.5543 - val_loss: 1.2037 - val_mae: 0.4846 - val_accuracy: 0.5000\n",
      "Epoch 2/4\n",
      "19/19 [==============================] - 48s 3s/step - loss: 0.6864 - mae: 0.4757 - accuracy: 0.6467 - val_loss: 0.4226 - val_mae: 0.3217 - val_accuracy: 0.8696\n",
      "Epoch 3/4\n",
      "19/19 [==============================] - 50s 3s/step - loss: 0.6566 - mae: 0.4156 - accuracy: 0.7880 - val_loss: 0.5779 - val_mae: 0.4241 - val_accuracy: 0.5000\n",
      "Epoch 4/4\n",
      "19/19 [==============================] - 51s 3s/step - loss: 0.5438 - mae: 0.3704 - accuracy: 0.7500 - val_loss: 0.1871 - val_mae: 0.1637 - val_accuracy: 1.0000\n"
     ]
    }
   ],
   "source": [
    "rnn_new = create_my_model11()\n",
    "history = rnn_new.fit(x_train, y_train, validation_data=(x_test, y_test), batch_size=10, epochs=4)"
   ]
  },
  {
   "cell_type": "markdown",
   "metadata": {},
   "source": [
    "Aprés 4 epochs l'accuracy reste assez faibles, alors que si on utilise notre réseau deja entrainé, il suffit d'une epochs de 40 secondes pour qu'il se spécialise dans les alcools : \n",
    "\n",
    "# Re-entrainer notre model pour plus de spécialization :"
   ]
  },
  {
   "cell_type": "code",
   "execution_count": null,
   "metadata": {},
   "outputs": [],
   "source": [
    "rnn_load = create_my_model11()\n",
    "rnn_load.load_weights('./rnn_lstm_V11.1000.10_weights.h5')\n",
    "rnn_load.summary()\n",
    "history = rnn_load.fit(x_train, y_train, validation_data=(x_test, y_test), batch_size=10, epochs=1)"
   ]
  },
  {
   "cell_type": "markdown",
   "metadata": {},
   "source": [
    "# Comparer a l'Accuracy de SYBA sur un autre fichier de test"
   ]
  },
  {
   "cell_type": "code",
   "execution_count": 10,
   "metadata": {},
   "outputs": [],
   "source": [
    "#D'abord charger syba et les données de test\n",
    "syba = SybaClassifier()\n",
    "syba.fitDefaultScore()\n"
   ]
  },
  {
   "cell_type": "code",
   "execution_count": null,
   "metadata": {},
   "outputs": [],
   "source": [
    "\n",
    "inpath = \"../data/transfer/Banques/\"\n",
    "outpath = \"../out/RNN/V8/\"\n",
    "files = [\"test_alcool_faciles.csv\", \"test_alcool_difficiles.csv\"]\n",
    "for f in files:\n",
    "    with open(inpath+f) as inp, open(outpath+f, \"w\") as out:\n",
    "        header = inp.readline().strip()\n",
    "        out.write(header)\n",
    "        out.write(\"idx,smiles,atoms,SybaScore,LstmScore\\n\")\n",
    "        data = np.array([np.array(Chem.GetMorganFingerprintAsBitVect(spls[0],2,nBits=nBits)) for spls in SmiMolSupplier(open(inpath+f, mode=\"rt\"), header=True, smi_col=0)])    \n",
    "        pr = rnn_load.predict(data)\n",
    "        i = 0\n",
    "        for line in inp:\n",
    "            idx, smi, atoms = line.strip().split(\",\")\n",
    "            out.write(\"{},{},{},{},{}\\n\".format(idx, smi, atoms, syba.predict(smi), pr[i]))\n",
    "            i += 1"
   ]
  }
 ],
 "metadata": {
  "kernelspec": {
   "display_name": "rdkit-env",
   "language": "python",
   "name": "rdkit-env"
  },
  "language_info": {
   "codemirror_mode": {
    "name": "ipython",
    "version": 3
   },
   "file_extension": ".py",
   "mimetype": "text/x-python",
   "name": "python",
   "nbconvert_exporter": "python",
   "pygments_lexer": "ipython3",
   "version": "3.6.12"
  }
 },
 "nbformat": 4,
 "nbformat_minor": 4
}
